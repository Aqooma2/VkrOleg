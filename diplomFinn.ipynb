{
 "cells": [
  {
   "cell_type": "code",
   "execution_count": null,
   "metadata": {
    "colab": {},
    "colab_type": "code",
    "id": "_kTFrNNPU7wP"
   },
   "outputs": [],
   "source": [
    "import pandas as pd\n",
    "import numpy as np\n",
    "import matplotlib.pyplot as plt\n",
    "\n",
    "import cv2\n",
    "import os\n",
    "from zipfile import ZipFile\n",
    "import time\n",
    "from datetime import datetime\n",
    "import itertools\n",
    "\n",
    "from sklearn.model_selection import train_test_split\n",
    "from sklearn.metrics import confusion_matrix\n",
    "\n",
    "import tensorflow as tf\n",
    "from tensorflow.keras.models import Sequential\n",
    "from tensorflow.keras.layers import Dense\n",
    "from tensorflow.keras.layers import Conv2D, AveragePooling2D, GlobalAveragePooling2D\n",
    "from tensorflow.keras import utils\n",
    "from tensorflow.keras.callbacks import TensorBoard, ModelCheckpoint\n",
    "\n",
    "np.random.seed(42)\n",
    "tf.random.set_seed(42)"
   ]
  },
  {
   "cell_type": "code",
   "execution_count": null,
   "metadata": {
    "colab": {},
    "colab_type": "code",
    "id": "Yu50xj5jU8I6"
   },
   "outputs": [],
   "source": [
    "train_ds = pd.read_csv(\"train.csv\")\n",
    "test_ds = pd.read_csv(\"val.csv\")"
   ]
  },
  {
   "cell_type": "code",
   "execution_count": null,
   "metadata": {
    "colab": {},
    "colab_type": "code",
    "id": "QqlcD7x6Yjcd"
   },
   "outputs": [],
   "source": [
    "num_classes = 6\n",
    "def class_labels(age):\n",
    "\n",
    "    if  age == 0:\n",
    "        return 0\n",
    "    elif  age == 1:\n",
    "        return 0\n",
    "    elif  age == 2:\n",
    "        return 1\n",
    "    elif  age == 3:\n",
    "        return 1\n",
    "    elif  age == 4:\n",
    "        return 2\n",
    "    elif age == 5:\n",
    "        return 2\n",
    "    elif  age == 6:\n",
    "        return 3\n",
    "    elif  age == 7:\n",
    "        return 3\n",
    "    elif  age == 8:\n",
    "        return 4\n",
    "    elif  age == 9:\n",
    "        return 4\n",
    "    elif  age == 10:\n",
    "        return 5\n",
    "    else:\n",
    "        return 5"
   ]
  },
  {
   "cell_type": "code",
   "execution_count": null,
   "metadata": {
    "colab": {},
    "colab_type": "code",
    "id": "LROsGcIaYjVr"
   },
   "outputs": [],
   "source": [
    "train_ds['target'] = train_ds['age'].map(class_labels)\n",
    "test_ds['target'] = test_ds['age'].map(class_labels)"
   ]
  },
  {
   "cell_type": "code",
   "execution_count": 6,
   "metadata": {
    "colab": {
     "base_uri": "https://localhost:8080/",
     "height": 153
    },
    "colab_type": "code",
    "executionInfo": {
     "elapsed": 1316,
     "status": "ok",
     "timestamp": 1592789471687,
     "user": {
      "displayName": "Prerak Agarwal",
      "photoUrl": "",
      "userId": "01206615471624868818"
     },
     "user_tz": -480
    },
    "id": "jWpwyHjzYjQN",
    "outputId": "d2ef2f1b-4ad2-4151-8354-d96167be93ff"
   },
   "outputs": [
    {
     "ename": "KeyboardInterrupt",
     "evalue": "",
     "output_type": "error",
     "traceback": [
      "\u001b[1;31m---------------------------------------------------------------------------\u001b[0m",
      "\u001b[1;31mKeyboardInterrupt\u001b[0m                         Traceback (most recent call last)",
      "Input \u001b[1;32mIn [6]\u001b[0m, in \u001b[0;36m<cell line: 9>\u001b[1;34m()\u001b[0m\n\u001b[0;32m      7\u001b[0m     z\u001b[38;5;241m.\u001b[39mextractall(\u001b[38;5;124m'\u001b[39m\u001b[38;5;124mdata/eval\u001b[39m\u001b[38;5;124m'\u001b[39m)\n\u001b[0;32m      9\u001b[0m \u001b[38;5;28;01mwith\u001b[39;00m py7zr\u001b[38;5;241m.\u001b[39mSevenZipFile(archive2, mode\u001b[38;5;241m=\u001b[39m\u001b[38;5;124m'\u001b[39m\u001b[38;5;124mr\u001b[39m\u001b[38;5;124m'\u001b[39m) \u001b[38;5;28;01mas\u001b[39;00m a:\n\u001b[1;32m---> 10\u001b[0m     \u001b[43ma\u001b[49m\u001b[38;5;241;43m.\u001b[39;49m\u001b[43mextractall\u001b[49m\u001b[43m(\u001b[49m\u001b[38;5;124;43m'\u001b[39;49m\u001b[38;5;124;43mdata/train\u001b[39;49m\u001b[38;5;124;43m'\u001b[39;49m\u001b[43m)\u001b[49m\n",
      "File \u001b[1;32m~\\AppData\\Local\\Programs\\Python\\Python310\\lib\\site-packages\\py7zr\\py7zr.py:983\u001b[0m, in \u001b[0;36mSevenZipFile.extractall\u001b[1;34m(self, path, callback)\u001b[0m\n\u001b[0;32m    977\u001b[0m \u001b[38;5;28;01mdef\u001b[39;00m \u001b[38;5;21mextractall\u001b[39m(\u001b[38;5;28mself\u001b[39m, path: Optional[Any] \u001b[38;5;241m=\u001b[39m \u001b[38;5;28;01mNone\u001b[39;00m, callback: Optional[ExtractCallback] \u001b[38;5;241m=\u001b[39m \u001b[38;5;28;01mNone\u001b[39;00m) \u001b[38;5;241m-\u001b[39m\u001b[38;5;241m>\u001b[39m \u001b[38;5;28;01mNone\u001b[39;00m:\n\u001b[0;32m    978\u001b[0m     \u001b[38;5;124;03m\"\"\"Extract all members from the archive to the current working\u001b[39;00m\n\u001b[0;32m    979\u001b[0m \u001b[38;5;124;03m    directory and set owner, modification time and permissions on\u001b[39;00m\n\u001b[0;32m    980\u001b[0m \u001b[38;5;124;03m    directories afterwards. ``path`` specifies a different directory\u001b[39;00m\n\u001b[0;32m    981\u001b[0m \u001b[38;5;124;03m    to extract to.\u001b[39;00m\n\u001b[0;32m    982\u001b[0m \u001b[38;5;124;03m    \"\"\"\u001b[39;00m\n\u001b[1;32m--> 983\u001b[0m     \u001b[38;5;28;43mself\u001b[39;49m\u001b[38;5;241;43m.\u001b[39;49m\u001b[43m_extract\u001b[49m\u001b[43m(\u001b[49m\u001b[43mpath\u001b[49m\u001b[38;5;241;43m=\u001b[39;49m\u001b[43mpath\u001b[49m\u001b[43m,\u001b[49m\u001b[43m \u001b[49m\u001b[43mreturn_dict\u001b[49m\u001b[38;5;241;43m=\u001b[39;49m\u001b[38;5;28;43;01mFalse\u001b[39;49;00m\u001b[43m,\u001b[49m\u001b[43m \u001b[49m\u001b[43mcallback\u001b[49m\u001b[38;5;241;43m=\u001b[39;49m\u001b[43mcallback\u001b[49m\u001b[43m)\u001b[49m\n",
      "File \u001b[1;32m~\\AppData\\Local\\Programs\\Python\\Python310\\lib\\site-packages\\py7zr\\py7zr.py:641\u001b[0m, in \u001b[0;36mSevenZipFile._extract\u001b[1;34m(self, path, targets, return_dict, callback)\u001b[0m\n\u001b[0;32m    635\u001b[0m     \u001b[38;5;28mself\u001b[39m\u001b[38;5;241m.\u001b[39mworker\u001b[38;5;241m.\u001b[39mextract(\n\u001b[0;32m    636\u001b[0m         \u001b[38;5;28mself\u001b[39m\u001b[38;5;241m.\u001b[39mfp,\n\u001b[0;32m    637\u001b[0m         parallel\u001b[38;5;241m=\u001b[39m(\u001b[38;5;129;01mnot\u001b[39;00m \u001b[38;5;28mself\u001b[39m\u001b[38;5;241m.\u001b[39mpassword_protected \u001b[38;5;129;01mand\u001b[39;00m \u001b[38;5;129;01mnot\u001b[39;00m \u001b[38;5;28mself\u001b[39m\u001b[38;5;241m.\u001b[39m_filePassed),\n\u001b[0;32m    638\u001b[0m         q\u001b[38;5;241m=\u001b[39m\u001b[38;5;28mself\u001b[39m\u001b[38;5;241m.\u001b[39mq,\n\u001b[0;32m    639\u001b[0m     )\n\u001b[0;32m    640\u001b[0m \u001b[38;5;28;01melse\u001b[39;00m:\n\u001b[1;32m--> 641\u001b[0m     \u001b[38;5;28;43mself\u001b[39;49m\u001b[38;5;241;43m.\u001b[39;49m\u001b[43mworker\u001b[49m\u001b[38;5;241;43m.\u001b[39;49m\u001b[43mextract\u001b[49m\u001b[43m(\u001b[49m\n\u001b[0;32m    642\u001b[0m \u001b[43m        \u001b[49m\u001b[38;5;28;43mself\u001b[39;49m\u001b[38;5;241;43m.\u001b[39;49m\u001b[43mfp\u001b[49m\u001b[43m,\u001b[49m\n\u001b[0;32m    643\u001b[0m \u001b[43m        \u001b[49m\u001b[43mparallel\u001b[49m\u001b[38;5;241;43m=\u001b[39;49m\u001b[43m(\u001b[49m\u001b[38;5;129;43;01mnot\u001b[39;49;00m\u001b[43m \u001b[49m\u001b[38;5;28;43mself\u001b[39;49m\u001b[38;5;241;43m.\u001b[39;49m\u001b[43mpassword_protected\u001b[49m\u001b[43m \u001b[49m\u001b[38;5;129;43;01mand\u001b[39;49;00m\u001b[43m \u001b[49m\u001b[38;5;129;43;01mnot\u001b[39;49;00m\u001b[43m \u001b[49m\u001b[38;5;28;43mself\u001b[39;49m\u001b[38;5;241;43m.\u001b[39;49m\u001b[43m_filePassed\u001b[49m\u001b[43m)\u001b[49m\u001b[43m,\u001b[49m\n\u001b[0;32m    644\u001b[0m \u001b[43m    \u001b[49m\u001b[43m)\u001b[49m\n\u001b[0;32m    646\u001b[0m \u001b[38;5;28mself\u001b[39m\u001b[38;5;241m.\u001b[39mq\u001b[38;5;241m.\u001b[39mput((\u001b[38;5;124m\"\u001b[39m\u001b[38;5;124mpost\u001b[39m\u001b[38;5;124m\"\u001b[39m, \u001b[38;5;28;01mNone\u001b[39;00m, \u001b[38;5;28;01mNone\u001b[39;00m))\n\u001b[0;32m    647\u001b[0m \u001b[38;5;66;03m# early return when dict specified\u001b[39;00m\n",
      "File \u001b[1;32m~\\AppData\\Local\\Programs\\Python\\Python310\\lib\\site-packages\\py7zr\\py7zr.py:1211\u001b[0m, in \u001b[0;36mWorker.extract\u001b[1;34m(self, fp, parallel, skip_notarget, q)\u001b[0m\n\u001b[0;32m   1209\u001b[0m numfolders \u001b[38;5;241m=\u001b[39m \u001b[38;5;28mself\u001b[39m\u001b[38;5;241m.\u001b[39mheader\u001b[38;5;241m.\u001b[39mmain_streams\u001b[38;5;241m.\u001b[39munpackinfo\u001b[38;5;241m.\u001b[39mnumfolders\n\u001b[0;32m   1210\u001b[0m \u001b[38;5;28;01mif\u001b[39;00m numfolders \u001b[38;5;241m==\u001b[39m \u001b[38;5;241m1\u001b[39m:\n\u001b[1;32m-> 1211\u001b[0m     \u001b[38;5;28;43mself\u001b[39;49m\u001b[38;5;241;43m.\u001b[39;49m\u001b[43mextract_single\u001b[49m\u001b[43m(\u001b[49m\n\u001b[0;32m   1212\u001b[0m \u001b[43m        \u001b[49m\u001b[43mfp\u001b[49m\u001b[43m,\u001b[49m\n\u001b[0;32m   1213\u001b[0m \u001b[43m        \u001b[49m\u001b[38;5;28;43mself\u001b[39;49m\u001b[38;5;241;43m.\u001b[39;49m\u001b[43mfiles\u001b[49m\u001b[43m,\u001b[49m\n\u001b[0;32m   1214\u001b[0m \u001b[43m        \u001b[49m\u001b[38;5;28;43mself\u001b[39;49m\u001b[38;5;241;43m.\u001b[39;49m\u001b[43msrc_start\u001b[49m\u001b[43m,\u001b[49m\n\u001b[0;32m   1215\u001b[0m \u001b[43m        \u001b[49m\u001b[43msrc_end\u001b[49m\u001b[43m,\u001b[49m\n\u001b[0;32m   1216\u001b[0m \u001b[43m        \u001b[49m\u001b[43mq\u001b[49m\u001b[43m,\u001b[49m\n\u001b[0;32m   1217\u001b[0m \u001b[43m        \u001b[49m\u001b[43mskip_notarget\u001b[49m\u001b[38;5;241;43m=\u001b[39;49m\u001b[43mskip_notarget\u001b[49m\u001b[43m,\u001b[49m\n\u001b[0;32m   1218\u001b[0m \u001b[43m    \u001b[49m\u001b[43m)\u001b[49m\n\u001b[0;32m   1219\u001b[0m \u001b[38;5;28;01melse\u001b[39;00m:\n\u001b[0;32m   1220\u001b[0m     folders \u001b[38;5;241m=\u001b[39m \u001b[38;5;28mself\u001b[39m\u001b[38;5;241m.\u001b[39mheader\u001b[38;5;241m.\u001b[39mmain_streams\u001b[38;5;241m.\u001b[39munpackinfo\u001b[38;5;241m.\u001b[39mfolders\n",
      "File \u001b[1;32m~\\AppData\\Local\\Programs\\Python\\Python310\\lib\\site-packages\\py7zr\\py7zr.py:1292\u001b[0m, in \u001b[0;36mWorker.extract_single\u001b[1;34m(self, fp, files, src_start, src_end, q, exc_q, skip_notarget)\u001b[0m\n\u001b[0;32m   1290\u001b[0m         fp \u001b[38;5;241m=\u001b[39m \u001b[38;5;28mopen\u001b[39m(fp, \u001b[38;5;124m\"\u001b[39m\u001b[38;5;124mrb\u001b[39m\u001b[38;5;124m\"\u001b[39m)\n\u001b[0;32m   1291\u001b[0m     fp\u001b[38;5;241m.\u001b[39mseek(src_start)\n\u001b[1;32m-> 1292\u001b[0m     \u001b[38;5;28;43mself\u001b[39;49m\u001b[38;5;241;43m.\u001b[39;49m\u001b[43m_extract_single\u001b[49m\u001b[43m(\u001b[49m\u001b[43mfp\u001b[49m\u001b[43m,\u001b[49m\u001b[43m \u001b[49m\u001b[43mfiles\u001b[49m\u001b[43m,\u001b[49m\u001b[43m \u001b[49m\u001b[43msrc_end\u001b[49m\u001b[43m,\u001b[49m\u001b[43m \u001b[49m\u001b[43mq\u001b[49m\u001b[43m,\u001b[49m\u001b[43m \u001b[49m\u001b[43mskip_notarget\u001b[49m\u001b[43m)\u001b[49m\n\u001b[0;32m   1293\u001b[0m \u001b[38;5;28;01mexcept\u001b[39;00m \u001b[38;5;167;01mException\u001b[39;00m \u001b[38;5;28;01mas\u001b[39;00m e:\n\u001b[0;32m   1294\u001b[0m     \u001b[38;5;28;01mif\u001b[39;00m exc_q \u001b[38;5;129;01mis\u001b[39;00m \u001b[38;5;28;01mNone\u001b[39;00m:\n",
      "File \u001b[1;32m~\\AppData\\Local\\Programs\\Python\\Python310\\lib\\site-packages\\py7zr\\py7zr.py:1352\u001b[0m, in \u001b[0;36mWorker._extract_single\u001b[1;34m(self, fp, files, src_end, q, skip_notarget)\u001b[0m\n\u001b[0;32m   1350\u001b[0m \u001b[38;5;28;01melse\u001b[39;00m:\n\u001b[0;32m   1351\u001b[0m     \u001b[38;5;28;01mwith\u001b[39;00m fileish\u001b[38;5;241m.\u001b[39mopen(mode\u001b[38;5;241m=\u001b[39m\u001b[38;5;124m\"\u001b[39m\u001b[38;5;124mwb\u001b[39m\u001b[38;5;124m\"\u001b[39m) \u001b[38;5;28;01mas\u001b[39;00m obfp:\n\u001b[1;32m-> 1352\u001b[0m         crc32 \u001b[38;5;241m=\u001b[39m \u001b[38;5;28;43mself\u001b[39;49m\u001b[38;5;241;43m.\u001b[39;49m\u001b[43mdecompress\u001b[49m\u001b[43m(\u001b[49m\u001b[43mfp\u001b[49m\u001b[43m,\u001b[49m\u001b[43m \u001b[49m\u001b[43mf\u001b[49m\u001b[38;5;241;43m.\u001b[39;49m\u001b[43mfolder\u001b[49m\u001b[43m,\u001b[49m\u001b[43m \u001b[49m\u001b[43mobfp\u001b[49m\u001b[43m,\u001b[49m\u001b[43m \u001b[49m\u001b[43mf\u001b[49m\u001b[38;5;241;43m.\u001b[39;49m\u001b[43muncompressed\u001b[49m\u001b[43m,\u001b[49m\u001b[43m \u001b[49m\u001b[43mf\u001b[49m\u001b[38;5;241;43m.\u001b[39;49m\u001b[43mcompressed\u001b[49m\u001b[43m,\u001b[49m\u001b[43m \u001b[49m\u001b[43msrc_end\u001b[49m\u001b[43m)\u001b[49m\n\u001b[0;32m   1353\u001b[0m         obfp\u001b[38;5;241m.\u001b[39mseek(\u001b[38;5;241m0\u001b[39m)\n\u001b[0;32m   1354\u001b[0m         \u001b[38;5;28;01mif\u001b[39;00m f\u001b[38;5;241m.\u001b[39mcrc32 \u001b[38;5;129;01mis\u001b[39;00m \u001b[38;5;129;01mnot\u001b[39;00m \u001b[38;5;28;01mNone\u001b[39;00m \u001b[38;5;129;01mand\u001b[39;00m crc32 \u001b[38;5;241m!=\u001b[39m f\u001b[38;5;241m.\u001b[39mcrc32:\n",
      "File \u001b[1;32m~\\AppData\\Local\\Programs\\Python\\Python310\\lib\\site-packages\\py7zr\\py7zr.py:1407\u001b[0m, in \u001b[0;36mWorker.decompress\u001b[1;34m(self, fp, folder, fq, size, compressed_size, src_end)\u001b[0m\n\u001b[0;32m   1405\u001b[0m decompressor \u001b[38;5;241m=\u001b[39m folder\u001b[38;5;241m.\u001b[39mget_decompressor(compressed_size)\n\u001b[0;32m   1406\u001b[0m \u001b[38;5;28;01mwhile\u001b[39;00m out_remaining \u001b[38;5;241m>\u001b[39m \u001b[38;5;241m0\u001b[39m:\n\u001b[1;32m-> 1407\u001b[0m     tmp \u001b[38;5;241m=\u001b[39m \u001b[43mdecompressor\u001b[49m\u001b[38;5;241;43m.\u001b[39;49m\u001b[43mdecompress\u001b[49m\u001b[43m(\u001b[49m\u001b[43mfp\u001b[49m\u001b[43m,\u001b[49m\u001b[43m \u001b[49m\u001b[38;5;28;43mmin\u001b[39;49m\u001b[43m(\u001b[49m\u001b[43mout_remaining\u001b[49m\u001b[43m,\u001b[49m\u001b[43m \u001b[49m\u001b[43mmax_block_size\u001b[49m\u001b[43m)\u001b[49m\u001b[43m)\u001b[49m\n\u001b[0;32m   1408\u001b[0m     \u001b[38;5;28;01mif\u001b[39;00m \u001b[38;5;28mlen\u001b[39m(tmp) \u001b[38;5;241m>\u001b[39m \u001b[38;5;241m0\u001b[39m:\n\u001b[0;32m   1409\u001b[0m         out_remaining \u001b[38;5;241m-\u001b[39m\u001b[38;5;241m=\u001b[39m \u001b[38;5;28mlen\u001b[39m(tmp)\n",
      "File \u001b[1;32m~\\AppData\\Local\\Programs\\Python\\Python310\\lib\\site-packages\\py7zr\\compressor.py:672\u001b[0m, in \u001b[0;36mSevenZipDecompressor.decompress\u001b[1;34m(self, fp, max_length)\u001b[0m\n\u001b[0;32m    670\u001b[0m     \u001b[38;5;28mself\u001b[39m\u001b[38;5;241m.\u001b[39m_unused \u001b[38;5;241m=\u001b[39m \u001b[38;5;28mbytearray\u001b[39m()\n\u001b[0;32m    671\u001b[0m \u001b[38;5;28;01melse\u001b[39;00m:\n\u001b[1;32m--> 672\u001b[0m     tmp \u001b[38;5;241m=\u001b[39m \u001b[38;5;28;43mself\u001b[39;49m\u001b[38;5;241;43m.\u001b[39;49m\u001b[43m_decompress\u001b[49m\u001b[43m(\u001b[49m\u001b[43mdata\u001b[49m\u001b[43m,\u001b[49m\u001b[43m \u001b[49m\u001b[43mmax_length\u001b[49m\u001b[43m)\u001b[49m\n\u001b[0;32m    673\u001b[0m \u001b[38;5;28;01mif\u001b[39;00m current_buf_len \u001b[38;5;241m+\u001b[39m \u001b[38;5;28mlen\u001b[39m(tmp) \u001b[38;5;241m<\u001b[39m\u001b[38;5;241m=\u001b[39m max_length:\n\u001b[0;32m    674\u001b[0m     res \u001b[38;5;241m=\u001b[39m \u001b[38;5;28mself\u001b[39m\u001b[38;5;241m.\u001b[39m_buf[\u001b[38;5;28mself\u001b[39m\u001b[38;5;241m.\u001b[39m_pos :] \u001b[38;5;241m+\u001b[39m tmp\n",
      "File \u001b[1;32m~\\AppData\\Local\\Programs\\Python\\Python310\\lib\\site-packages\\py7zr\\compressor.py:628\u001b[0m, in \u001b[0;36mSevenZipDecompressor._decompress\u001b[1;34m(self, data, max_length)\u001b[0m\n\u001b[0;32m    626\u001b[0m \u001b[38;5;28;01mfor\u001b[39;00m i, decompressor \u001b[38;5;129;01min\u001b[39;00m \u001b[38;5;28menumerate\u001b[39m(\u001b[38;5;28mself\u001b[39m\u001b[38;5;241m.\u001b[39mchain):\n\u001b[0;32m    627\u001b[0m     \u001b[38;5;28;01mif\u001b[39;00m \u001b[38;5;28mself\u001b[39m\u001b[38;5;241m.\u001b[39m_unpacked[i] \u001b[38;5;241m<\u001b[39m \u001b[38;5;28mself\u001b[39m\u001b[38;5;241m.\u001b[39m_unpacksizes[i]:\n\u001b[1;32m--> 628\u001b[0m         data \u001b[38;5;241m=\u001b[39m \u001b[43mdecompressor\u001b[49m\u001b[38;5;241;43m.\u001b[39;49m\u001b[43mdecompress\u001b[49m\u001b[43m(\u001b[49m\u001b[43mdata\u001b[49m\u001b[43m,\u001b[49m\u001b[43m \u001b[49m\u001b[43mmax_length\u001b[49m\u001b[43m)\u001b[49m\n\u001b[0;32m    629\u001b[0m         \u001b[38;5;28mself\u001b[39m\u001b[38;5;241m.\u001b[39m_unpacked[i] \u001b[38;5;241m+\u001b[39m\u001b[38;5;241m=\u001b[39m \u001b[38;5;28mlen\u001b[39m(data)\n\u001b[0;32m    630\u001b[0m     \u001b[38;5;28;01melif\u001b[39;00m \u001b[38;5;28mlen\u001b[39m(data) \u001b[38;5;241m==\u001b[39m \u001b[38;5;241m0\u001b[39m:\n",
      "\u001b[1;31mKeyboardInterrupt\u001b[0m: "
     ]
    }
   ],
   "source": [
    "import py7zr\n",
    "\n",
    "archive1 = 'data/eval.7z'\n",
    "archive2 = 'data/train.7z'\n",
    "\n",
    "with py7zr.SevenZipFile(archive1, mode='r') as z:\n",
    "    z.extractall()\n",
    "    \n",
    "with py7zr.SevenZipFile(archive2, mode='r') as a:\n",
    "    a.extractall()"
   ]
  },
  {
   "cell_type": "code",
   "execution_count": null,
   "metadata": {
    "colab": {},
    "colab_type": "code",
    "id": "sJSY34ShavL_"
   },
   "outputs": [],
   "source": [
    "# Создание списка имен файлов\n",
    "\n",
    "train_path = list(train_ds['filename'])\n",
    "train_ll = list(train_ds['target'])\n",
    "\n",
    "test_path = list(test_ds['filename'])\n",
    "test_ll = list(test_ds['target'])\n",
    "\n",
    "# Преобразование в константы\n",
    "\n",
    "train_path_tf = tf.constant(train_path)\n",
    "train_ll_tf = tf.constant(train_ll)\n",
    "\n",
    "test_path_tf = tf.constant(test_path)\n",
    "test_ll_tf = tf.constant(test_ll)"
   ]
  },
  {
   "cell_type": "code",
   "execution_count": null,
   "metadata": {
    "colab": {},
    "colab_type": "code",
    "id": "4ALPko3Xavbo"
   },
   "outputs": [],
   "source": [
    "# Функция чтение и преобразование изображений\n",
    "\n",
    "def _parse_function(filename, label):\n",
    "    \n",
    "    image_string = tf.io.read_file(filename)\n",
    "    image_decoded = tf.io.decode_jpeg(image_string, channels=1)\n",
    "    label = tf.one_hot(label, num_classes)\n",
    "    print(image_decoded)\n",
    "\n",
    "    return image_decoded, label"
   ]
  },
  {
   "cell_type": "code",
   "execution_count": null,
   "metadata": {
    "colab": {},
    "colab_type": "code",
    "id": "OTyXZ2tUavZh"
   },
   "outputs": [],
   "source": [
    "# создание дата сета для нейросети\n",
    "\n",
    "train_dataset = tf.data.Dataset.from_tensor_slices((train_path_tf, train_ll_tf))\n",
    "train_dataset = train_dataset.map(_parse_function)\n",
    "\n",
    "train_dataset = train_dataset.batch(32)\n",
    "\n",
    "test_dataset = tf.data.Dataset.from_tensor_slices((test_path_tf, test_ll_tf))\n",
    "test_dataset = test_dataset.map(_parse_function)\n",
    "\n",
    "test_dataset = test_dataset.batch(32)  "
   ]
  },
  {
   "cell_type": "code",
   "execution_count": null,
   "metadata": {
    "colab": {
     "base_uri": "https://localhost:8080/",
     "height": 527
    },
    "colab_type": "code",
    "executionInfo": {
     "elapsed": 961,
     "status": "ok",
     "timestamp": 1592794444041,
     "user": {
      "displayName": "Prerak Agarwal",
      "photoUrl": "",
      "userId": "01206615471624868818"
     },
     "user_tz": -480
    },
    "id": "kcW44JspavWb",
    "outputId": "71eb87a3-703c-4a2a-e06b-e5f141929662"
   },
   "outputs": [],
   "source": [
    "my_cnn_arh = Sequential()\n",
    "\n",
    "my_cnn_arh.add(Conv2D(filters=32, kernel_size=5, activation='relu', input_shape=(200, 200, 1)))\n",
    "my_cnn_arh.add(AveragePooling2D(pool_size=(3,3)))\n",
    "\n",
    "my_cnn_arh.add(Conv2D(filters=128, kernel_size=5, activation='relu'))\n",
    "my_cnn_arh.add(AveragePooling2D(pool_size=(2,2)))\n",
    "\n",
    "my_cnn_arh.add(Conv2D(filters=256, kernel_size=3, activation='relu'))\n",
    "my_cnn_arh.add(AveragePooling2D(pool_size=(2,2)))\n",
    "\n",
    "my_cnn_arh.add(Conv2D(filters=256, kernel_size=3, activation='relu'))\n",
    "my_cnn_arh.add(AveragePooling2D(pool_size=(2,2)))\n",
    "\n",
    "my_cnn_arh.add(Conv2D(filters=192, kernel_size=3, activation='relu'))\n",
    "my_cnn_arh.add(AveragePooling2D(pool_size=(2,2)))\n",
    "\n",
    "my_cnn_arh.add(GlobalAveragePooling2D())\n",
    "\n",
    "my_cnn_arh.add(Dense(512, activation='relu'))\n",
    "my_cnn_arh.add(Dense(132, activation='relu'))\n",
    "\n",
    "my_cnn_arh.add(Dense(6, activation='softmax'))\n",
    "\n",
    "my_cnn_arh.summary()"
   ]
  },
  {
   "cell_type": "code",
   "execution_count": null,
   "metadata": {
    "colab": {},
    "colab_type": "code",
    "id": "uBG5MY8zavTn"
   },
   "outputs": [],
   "source": [
    "my_cnn_arh.compile(loss='categorical_crossentropy', optimizer='adam', metrics=['accuracy'])"
   ]
  },
  {
   "cell_type": "code",
   "execution_count": null,
   "metadata": {
    "colab": {},
    "colab_type": "code",
    "id": "X6dQDDhmfuzo"
   },
   "outputs": [],
   "source": [
    "checkpoint_path = 'save/weight.h5'\n",
    "checkpoint = ModelCheckpoint(filepath=checkpoint_path, monitor='val_accuracy',save_best_only=True,save_weights_only=False,verbose=1)"
   ]
  },
  {
   "cell_type": "code",
   "execution_count": null,
   "metadata": {
    "colab": {
     "base_uri": "https://localhost:8080/",
     "height": 1000
    },
    "colab_type": "code",
    "executionInfo": {
     "elapsed": 1362636,
     "status": "ok",
     "timestamp": 1592803783361,
     "user": {
      "displayName": "Prerak Agarwal",
      "photoUrl": "",
      "userId": "01206615471624868818"
     },
     "user_tz": -480
    },
    "id": "hU4LJT6xYjJp",
    "outputId": "0ab09013-5d21-44d3-a728-d4bf3c8bcab9"
   },
   "outputs": [],
   "source": [
    "my_cnn_arh_history = my_cnn_arh.fit(train_dataset,validation_data=test_dataset,batch_size=32,epochs=1,callbacks=[ checkpoint],shuffle=False)"
   ]
  },
  {
   "cell_type": "code",
   "execution_count": null,
   "metadata": {
    "colab": {},
    "colab_type": "code",
    "id": "RP7vxY_6YjCM"
   },
   "outputs": [],
   "source": [
    "train_loss = my_cnn_arh_history.history['loss']\n",
    "test_loss = my_cnn_arh_history.history['val_loss']\n",
    "train_accuracy = my_cnn_arh_history.history['accuracy']\n",
    "test_accuracy = my_cnn_arh_history.history['val_accuracy']"
   ]
  },
  {
   "cell_type": "code",
   "execution_count": null,
   "metadata": {
    "colab": {
     "base_uri": "https://localhost:8080/",
     "height": 470
    },
    "colab_type": "code",
    "executionInfo": {
     "elapsed": 2083,
     "status": "ok",
     "timestamp": 1592806180903,
     "user": {
      "displayName": "Prerak Agarwal",
      "photoUrl": "",
      "userId": "01206615471624868818"
     },
     "user_tz": -480
    },
    "id": "COkki9JUU8kf",
    "outputId": "c4217a95-784c-42e6-c052-7c4f0e4aa447"
   },
   "outputs": [],
   "source": [
    "fig, ax = plt.subplots(ncols=2, figsize=(15,7))\n",
    "\n",
    "ax = ax.ravel()\n",
    "\n",
    "ax[0].plot(train_loss, label='Train Loss', color='royalblue', marker='o', markersize=5)\n",
    "ax[0].plot(test_loss, label='Test Loss', color = 'orangered', marker='o', markersize=5)\n",
    "\n",
    "ax[0].set_xlabel('Epochs', fontsize=14)\n",
    "ax[0].set_ylabel('Categorical Crossentropy', fontsize=14)\n",
    "\n",
    "ax[0].legend(fontsize=14)\n",
    "ax[0].tick_params(axis='both', labelsize=12)\n",
    "\n",
    "ax[1].plot(train_accuracy, label='Train Accuracy', color='royalblue', marker='o', markersize=5)\n",
    "ax[1].plot(test_accuracy, label='Test Accuracy', color='orangered', marker='o', markersize=5)\n",
    "\n",
    "ax[1].set_xlabel('Epochs', fontsize=14)\n",
    "ax[1].set_ylabel('Accuracy', fontsize=14)\n",
    "\n",
    "ax[1].legend(fontsize=14)\n",
    "ax[1].tick_params(axis='both', labelsize=12)\n",
    "\n",
    "fig.suptitle(x=0.5, y=0.92, t=\"Линейные графики, показывающие потери и точность модели CNN по эпохам\", fontsize=16)"
   ]
  },
  {
   "cell_type": "code",
   "execution_count": null,
   "metadata": {
    "colab": {
     "base_uri": "https://localhost:8080/",
     "height": 34
    },
    "colab_type": "code",
    "executionInfo": {
     "elapsed": 5596,
     "status": "ok",
     "timestamp": 1592806219385,
     "user": {
      "displayName": "Prerak Agarwal",
      "photoUrl": "",
      "userId": "01206615471624868818"
     },
     "user_tz": -480
    },
    "id": "F75NJtVJU8oD",
    "outputId": "50e05ca0-4673-4f29-e2b2-f348504c73a8"
   },
   "outputs": [],
   "source": [
    "my_cnn_arh_score = my_cnn_arh.evaluate(test_dataset, verbose=1)"
   ]
  },
  {
   "cell_type": "code",
   "execution_count": null,
   "metadata": {
    "colab": {
     "base_uri": "https://localhost:8080/",
     "height": 51
    },
    "colab_type": "code",
    "executionInfo": {
     "elapsed": 2328,
     "status": "ok",
     "timestamp": 1592806219389,
     "user": {
      "displayName": "Prerak Agarwal",
      "photoUrl": "",
      "userId": "01206615471624868818"
     },
     "user_tz": -480
    },
    "id": "h5JdZYFMU8s0",
    "outputId": "dd98d3e6-58a9-46cb-f676-be4ad91fe5c2"
   },
   "outputs": [],
   "source": [
    "final_cnn_labels = my_cnn_arh.metrics_names\n",
    "print(f'CNN model {final_cnn_labels[0]} \\t\\t= {round(my_cnn_arh_score[0], 3)}')\n",
    "print(f'CNN model {final_cnn_labels[1]} \\t= {round(my_cnn_arh_score[1], 3)}')"
   ]
  },
  {
   "cell_type": "code",
   "execution_count": null,
   "metadata": {
    "colab": {},
    "colab_type": "code",
    "id": "fatkGFAkrjCF"
   },
   "outputs": [],
   "source": [
    "my_cnn_arh.save(f\"save/saved_model_acc_{round(my_cnn_arh_score[1], 3)}.h5\", save_format='h5')"
   ]
  },
  {
   "cell_type": "code",
   "execution_count": null,
   "metadata": {
    "colab": {},
    "colab_type": "code",
    "id": "R1e1uYqHU8wx"
   },
   "outputs": [],
   "source": [
    "from keras.models import load_model\n",
    "from deepface import DeepFace\n",
    "from PIL import Image\n",
    "from PIL import ImageFont\n",
    "from PIL import ImageDraw \n",
    "import cv2\n",
    "import numpy as np\n",
    "\n",
    "model = load_model(\"save/final_cnn_model_acc_0.575.h5\")\n",
    "cap = cv2.VideoCapture(0)\n",
    "while True:\n",
    "    ret, img = cap.read()\n",
    "    face_cascade = cv2.CascadeClassifier(\"haarcascade_frontalface_default.xml\")\n",
    "    faces = face_cascade.detectMultiScale(img, scaleFactor=1.2, minNeighbors=6, minSize=(100, 100))\n",
    "\n",
    "    for i, (x, y, w, h) in enumerate(faces):\n",
    "        \n",
    "        img2 = img[y:y+h, x:x+w]\n",
    "        img_gray = cv2.cvtColor(img2, cv2.COLOR_BGR2GRAY)\n",
    "        img_gray = cv2.resize(img_gray, (200, 200))\n",
    "        img_gray = img_gray.reshape(-1, 200, 200, 1)\n",
    "\n",
    "        prediction = model.predict(img_gray)\n",
    "        # age_ranges = ['1-3', '4-8', '9-13', '14-17', '18-21', '22-24', '25-27', '28-30', '31-35', '36-40', '41-45', '46-50']\n",
    "        age_ranges = ['1-8', '9-17', '18-24', '25-30', '31-40', '41-50']\n",
    "        v = np.argmax(prediction[0])\n",
    "\n",
    "        face_rect = cv2.rectangle(img, (x, y), (x+w, y+h), (0, 100, 0), thickness=2)\n",
    "        face_rect = cv2.rectangle(img, (x-1, y), (x+w+1, y-50),(0, 100, 0),thickness=-1)\n",
    "        \n",
    "        ag_text = str(age_ranges[v])+' лет'\n",
    "        ag_text2 ='('+str(prediction[0][v])+')'\n",
    "        \n",
    "        font = cv2.FONT_HERSHEY_COMPLEX\n",
    "        pos = (x,y-25)\n",
    "        pos2 = (x,y-5)\n",
    "        fontScale = 0.6\n",
    "        fontColor = (255,255,255)\n",
    "        thickness = 1\n",
    "        lineType = 2\n",
    "        \n",
    "        cv2.putText(img,ag_text, \n",
    "            pos, \n",
    "            font, \n",
    "            fontScale,\n",
    "            fontColor,\n",
    "            thickness,\n",
    "            lineType)\n",
    "        \n",
    "        cv2.putText(img,ag_text2, \n",
    "            pos2, \n",
    "            font, \n",
    "            fontScale,\n",
    "            fontColor,\n",
    "            thickness,\n",
    "            lineType)\n",
    "        \n",
    "    cv2.imshow(\"camera\", img)\n",
    "    if cv2.waitKey(10) == 27: # Клавиша Esc\n",
    "        break\n",
    "\n",
    "cap.release()\n",
    "cv2.destroyAllWindows()\n",
    "    "
   ]
  },
  {
   "cell_type": "code",
   "execution_count": null,
   "metadata": {
    "colab": {},
    "colab_type": "code",
    "id": "R1e1uYqHU8wx"
   },
   "outputs": [],
   "source": [
    "from keras.models import load_model\n",
    "from deepface import DeepFace\n",
    "from PIL import Image\n",
    "from PIL import ImageFont\n",
    "from PIL import ImageDraw \n",
    "import cv2\n",
    "from mtcnn import MTCNN\n",
    "import numpy as np\n",
    "import matplotlib.pyplot as plt\n",
    "\n",
    "img = cv2.imread(\"test/tests.jpg\")  \n",
    "model = load_model(\"save/weight.h5\")\n",
    "\n",
    "detector = MTCNN() # создание детектора\n",
    "result = detector.detect_faces(img)\n",
    "\n",
    "# for i in range(len(result)): \n",
    "#     bounding_box = result[i]['box']  #  ограничивающие рамки\n",
    "#     cv2.rectangle(img, (bounding_box[0], bounding_box[1]),\n",
    "#     (bounding_box[0]+bounding_box[2], bounding_box[1] + bounding_box[3]),\n",
    "#            (0,155,255), 2) #  ограничение области на изображении\n",
    "#     plt.imshow(image)\n",
    "# plt.imshow(image)\n",
    "# face_cascade = cv2.CascadeClassifier(\"haarcascade_frontalface_default.xml\")\n",
    "# faces = face_cascade.detectMultiScale(img, scaleFactor=1.2, minNeighbors=6, minSize=(100, 100))\n",
    "for i in range(len(result)):\n",
    "        bounding_box = result[i]['box']\n",
    "        img2 = img[bounding_box[1]:bounding_box[1]+bounding_box[3], bounding_box[0]:bounding_box[0]+bounding_box[2]]\n",
    "        img_gray = cv2.cvtColor(img2, cv2.COLOR_BGR2GRAY)\n",
    "        img_gray = cv2.resize(img_gray, (200, 200))\n",
    "        img_gray = img_gray.reshape(-1, 200, 200, 1)\n",
    "\n",
    "        prediction = model.predict(img_gray)\n",
    "        # age_ranges = ['1-3', '4-8', '9-13', '14-17', '18-21', '22-24', '25-27', '28-30', '31-35', '36-40', '41-45', '46-50']\n",
    "        age_ranges = ['1-8', '9-17', '18-24', '25-30', '31-40', '41-50']\n",
    "        v = np.argmax(prediction[0])\n",
    "\n",
    "        cv2.rectangle(img, (bounding_box[0], bounding_box[1]), (bounding_box[0]+bounding_box[2], bounding_box[1]+bounding_box[3]), (0, 100, 0), 2)\n",
    "        cv2.rectangle(img, (bounding_box[0]- 1, bounding_box[1]), (bounding_box[0]+bounding_box[2]+1, bounding_box[1]-50),(0, 100, 0),-1)\n",
    "        \n",
    "        ag_text = str(age_ranges[v])+' лет'\n",
    "        # ag_text2 ='('+str(prediction[0][v])+')'\n",
    "        \n",
    "        font = cv2.FONT_HERSHEY_COMPLEX\n",
    "        pos = (bounding_box[0],bounding_box[1]-25)\n",
    "        pos2 = (bounding_box[0],bounding_box[1]-5)\n",
    "        fontScale = 0.6\n",
    "        fontColor = (255,255,255)\n",
    "        thickness = 1\n",
    "        lineType = 2\n",
    "        \n",
    "        cv2.putText(img,ag_text, \n",
    "            pos, \n",
    "            font, \n",
    "            fontScale,\n",
    "            fontColor,\n",
    "            thickness,\n",
    "            lineType)\n",
    "        \n",
    "        # cv2.putText(img,ag_text2, \n",
    "        #     pos2, \n",
    "        #     font, \n",
    "        #     fontScale,\n",
    "        #     fontColor,\n",
    "        #     thickness,\n",
    "        #     lineType)\n",
    "        \n",
    "cv2.imshow(\"fhoto\", img)\n",
    "cv2.waitKey(55000)\n",
    "cv2.destroyAllWindows()\n",
    "\n",
    "    "
   ]
  },
  {
   "cell_type": "code",
   "execution_count": null,
   "metadata": {
    "colab": {},
    "colab_type": "code",
    "id": "R1e1uYqHU8wx"
   },
   "outputs": [],
   "source": [
    "my_cnn_arh_predict = my_cnn_arh.predict(test_dataset)\n",
    "my_cnn_arh_predict = my_cnn_arh_predict.argmax(axis=-1)\n",
    "conf_mat = confusion_matrix(test_ll, my_cnn_arh_predict)\n",
    "conf_mat"
   ]
  },
  {
   "cell_type": "code",
   "execution_count": null,
   "metadata": {
    "colab": {},
    "colab_type": "code",
    "id": "uACH8n6fU95F"
   },
   "outputs": [],
   "source": [
    "def plot_confusion_matrix(cm, classes, normalize=False, title='Confusion Matrix', export_as='confusion_matrix', cmap=plt.cm.Reds):\n",
    "\n",
    "    plt.imshow(cm, interpolation='nearest', cmap=cmap)\n",
    "    plt.title(title, fontsize=16)\n",
    "    plt.colorbar()\n",
    "    tick_marks = np.arange(len(classes))\n",
    "    plt.xticks(tick_marks, classes, rotation=45)\n",
    "    plt.yticks(tick_marks, classes)\n",
    "\n",
    "    fmt = '.2f' if normalize else 'd'\n",
    "    thresh = cm.max() / 2.\n",
    "    for i, j in itertools.product(range(cm.shape[0]), range(cm.shape[1])):\n",
    "        plt.text(j, i, format(cm[i, j], fmt), horizontalalignment=\"center\", color=\"white\" if cm[i, j] > thresh else \"black\")\n",
    "\n",
    "    plt.tight_layout()\n",
    "    plt.ylabel('Реальный возраст', fontsize=14)\n",
    "    plt.xlabel('Предсказанный возраст', fontsize=14)\n",
    "\n",
    "cm_plot_labels = ['1-8', '9-17', '18-24', '25-30', '31-40', '41-50']\n",
    "\n",
    "plt.figure(figsize=(16,8))\n",
    "plot_confusion_matrix(conf_mat, cm_plot_labels, normalize=False,title=\"Матрица ошибок основанная на предсказаниях модели CNN\",export_as=\"final_cnn_conf_mat\")\n",
    "plt.show()"
   ]
  },
  {
   "cell_type": "code",
   "execution_count": 1,
   "metadata": {},
   "outputs": [],
   "source": [
    "from keras.models import load_model\n",
    "from deepface import DeepFace\n",
    "from PIL import Image\n",
    "from PIL import ImageFont\n",
    "from PIL import ImageDraw\n",
    "from mtcnn import MTCNN\n",
    "import numpy as np\n",
    "import matplotlib.pyplot as plt\n",
    "from tkinter import *\n",
    "import tkinter.filedialog as fd\n",
    "import cv2\n",
    "from PIL import Image,ImageTk\n",
    "\n",
    "root = Tk()\n",
    "fix_h = 550\n",
    "kh = 0\n",
    "model = load_model(\"save/weight.h5\")\n",
    "def choose_file():\n",
    "    \n",
    "        filetypes = ((\"Изображение\", \"*.jpg *.gif *.png\"),\n",
    "                     (\"Любой\", \"*\"))\n",
    "        filename = fd.askopenfilename(title=\"Открыть файл\", initialdir=\"/\",\n",
    "                                      filetypes=filetypes)\n",
    "        if filename:\n",
    "            \n",
    "            for widget in frame2.winfo_children():\n",
    "                widget.destroy()\n",
    "            for widget in frame3.winfo_children():\n",
    "                widget.destroy()\n",
    "                \n",
    "            img = cv2.imread(filename)  \n",
    "\n",
    "            detector = MTCNN()\n",
    "            result = detector.detect_faces(img)\n",
    "            text_age = \"\"\n",
    "            \n",
    "            if result:\n",
    "                for i in range(len(result)):\n",
    "\n",
    "                    bounding_box = result[i]['box']\n",
    "                    img2 = img[bounding_box[1]:bounding_box[1]+bounding_box[3], bounding_box[0]:bounding_box[0]+bounding_box[2]]\n",
    "                    img_gray = cv2.cvtColor(img2, cv2.COLOR_BGR2GRAY)\n",
    "                    img_gray = cv2.resize(img_gray, (200, 200))\n",
    "                    img_gray = img_gray.reshape(-1, 200, 200, 1)\n",
    "\n",
    "                    prediction = model.predict(img_gray)\n",
    "                    age_ranges = ['1-8', '9-17', '18-24', '25-30', '31-40', '41-50']\n",
    "                    v = np.argmax(prediction[0])\n",
    "\n",
    "                    cv2.rectangle(img, (bounding_box[0], bounding_box[1]), (bounding_box[0]+bounding_box[2], bounding_box[1]+bounding_box[3]), (0, 100, 0), 2)\n",
    "                    cv2.rectangle(img, (bounding_box[0]- 1, bounding_box[1]), (bounding_box[0]+bounding_box[2]+1, bounding_box[1]-50),(0, 100, 0),-1)\n",
    "\n",
    "                    ag_text = str(i+1)+': '+str(age_ranges[v])\n",
    "\n",
    "                    font = cv2.FONT_HERSHEY_COMPLEX\n",
    "                    pos = (bounding_box[0],bounding_box[1]-25)\n",
    "                    pos2 = (bounding_box[0],bounding_box[1]-5)\n",
    "                    fontScale = 0.8\n",
    "                    fontColor = (255,255,255)\n",
    "                    thickness = 1\n",
    "                    lineType = 2\n",
    "\n",
    "                    text_age += \"Возраст \"+str(i+1)+\" человека \"+str(age_ranges[v])+' лет.'\n",
    "\n",
    "                    cv2.putText(img,ag_text, \n",
    "                        pos, \n",
    "                        font, \n",
    "                        fontScale,\n",
    "                        fontColor,\n",
    "                        thickness,\n",
    "                        lineType)\n",
    "\n",
    "                b,g,r = cv2.split(img)\n",
    "                imgr = cv2.merge((r,g,b))\n",
    "                im = Image.fromarray(imgr)\n",
    "\n",
    "                height_percent = (fix_h / float(im.size[1]))\n",
    "                width_size = int((float(im.size[0]) * float(height_percent)))\n",
    "                new_image = im.resize((width_size, fix_h))\n",
    "                imaget = ImageTk.PhotoImage(new_image)\n",
    "\n",
    "                lb = Label(frame2,\n",
    "                            height =fix_h,\n",
    "                            image=imaget)\n",
    "                lb.imaget = imaget\n",
    "                lb.pack(padx=30)\n",
    "\n",
    "                lb2 = Label(frame3,\n",
    "                            font=\"Arial 22\",\n",
    "                            wraplength=1000,\n",
    "                            justify=LEFT,\n",
    "                            foreground=\"#ffffff\",\n",
    "                            background=\"#767676\",\n",
    "                            text=\"На фото было найдено \"+str(len(result))+\" человек(а).\\n\"+text_age,\n",
    "                            )\n",
    "                lb2.pack(side=LEFT, anchor=N, )\n",
    "            else:\n",
    "                \n",
    "                b,g,r = cv2.split(img)\n",
    "                imgr = cv2.merge((r,g,b))\n",
    "                im = Image.fromarray(imgr)\n",
    "\n",
    "                height_percent = (fix_h / float(im.size[1]))\n",
    "                width_size = int((float(im.size[0]) * float(height_percent)))\n",
    "                new_image = im.resize((width_size, fix_h))\n",
    "                imaget = ImageTk.PhotoImage(new_image)\n",
    "                \n",
    "                lb = Label(frame2,\n",
    "                            height =fix_h,\n",
    "                            image=imaget)\n",
    "                lb.imaget = imaget\n",
    "                lb.pack(padx=30)\n",
    "                \n",
    "                lb2 = Label(frame3,\n",
    "                            font=\"Arial 22\",\n",
    "                            wraplength=1000,\n",
    "                            justify=LEFT,\n",
    "                            foreground=\"#ffffff\",\n",
    "                            background=\"#767676\",\n",
    "                            text=\"Не было найдено людей на фото!\"\n",
    "                            )\n",
    "                lb2.pack(side=LEFT, anchor=N, )\n",
    "               \n",
    "                \n",
    "root['bg'] = '#fafafa'\n",
    "root.title('Приложение для определения возраста')\n",
    "root.geometry('1200x700')\n",
    "\n",
    "frame1 = Frame(root,bg='#989898',bd=5)\n",
    "frame1.place(relx=0,rely=0,relwidth=0.20,relheight=1)\n",
    "\n",
    "frame2 = Frame(root,bg='#555555',bd=5)\n",
    "frame2.place(relx=0.20,rely=0,relwidth=0.80,relheight=1)\n",
    "\n",
    "frame3 = Frame(root,bg='#767676',bd=5)\n",
    "frame3.place(relx=0.20,rely=0.8,relwidth=0.80,relheight=1)\n",
    "\n",
    "btn = Button(frame1,\n",
    "             text='Выбрать фото',\n",
    "             width = 500,\n",
    "             height = 3,\n",
    "             background=\"#555\",\n",
    "             foreground=\"#ffffff\",\n",
    "             command=choose_file)\n",
    "btn.pack(padx=10, pady=10)\n",
    "root.mainloop()\n"
   ]
  },
  {
   "cell_type": "code",
   "execution_count": null,
   "metadata": {},
   "outputs": [],
   "source": []
  },
  {
   "cell_type": "code",
   "execution_count": null,
   "metadata": {},
   "outputs": [],
   "source": []
  }
 ],
 "metadata": {
  "accelerator": "GPU",
  "colab": {
   "authorship_tag": "ABX9TyNxnQ0Ee0XR29vi5j4qvL9F",
   "collapsed_sections": [],
   "machine_shape": "hm",
   "name": "5_deep_learning_final_CNN_model.ipynb",
   "provenance": []
  },
  "kernelspec": {
   "display_name": "Python 3 (ipykernel)",
   "language": "python",
   "name": "python3"
  },
  "language_info": {
   "codemirror_mode": {
    "name": "ipython",
    "version": 3
   },
   "file_extension": ".py",
   "mimetype": "text/x-python",
   "name": "python",
   "nbconvert_exporter": "python",
   "pygments_lexer": "ipython3",
   "version": "3.10.4"
  }
 },
 "nbformat": 4,
 "nbformat_minor": 4
}
